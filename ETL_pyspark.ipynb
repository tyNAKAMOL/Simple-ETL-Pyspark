{
  "nbformat": 4,
  "nbformat_minor": 0,
  "metadata": {
    "colab": {
      "provenance": [],
      "authorship_tag": "ABX9TyMapMLG9WrqrivE77JLq7hB",
      "include_colab_link": true
    },
    "kernelspec": {
      "name": "python3",
      "display_name": "Python 3"
    },
    "language_info": {
      "name": "python"
    }
  },
  "cells": [
    {
      "cell_type": "markdown",
      "metadata": {
        "id": "view-in-github",
        "colab_type": "text"
      },
      "source": [
        "<a href=\"https://colab.research.google.com/github/tyNAKAMOL/Simple-ETL-Pyspark/blob/main/ETL_pyspark.ipynb\" target=\"_parent\"><img src=\"https://colab.research.google.com/assets/colab-badge.svg\" alt=\"Open In Colab\"/></a>"
      ]
    },
    {
      "cell_type": "code",
      "source": [
        "# innstall java\n",
        "!apt-get install openjdk-8-jdk-headless -qq > /dev/null\n",
        "\n",
        "# install spark (change the version number if needed)\n",
        "!wget -q https://archive.apache.org/dist/spark/spark-3.0.0/spark-3.0.0-bin-hadoop3.2.tgz\n",
        "\n",
        "# unzip the spark file to the current folder\n",
        "!tar xf spark-3.0.0-bin-hadoop3.2.tgz"
      ],
      "metadata": {
        "id": "uz_x9XmuZ5_R"
      },
      "execution_count": 1,
      "outputs": []
    },
    {
      "cell_type": "code",
      "source": [
        "# set your spark folder to your system path environment. \n",
        "import os\n",
        "os.environ[\"JAVA_HOME\"] = \"/usr/lib/jvm/java-8-openjdk-amd64\"\n",
        "os.environ[\"SPARK_HOME\"] = \"/content/spark-3.0.0-bin-hadoop3.2\""
      ],
      "metadata": {
        "id": "bG3dQWk0dAi0"
      },
      "execution_count": 2,
      "outputs": []
    },
    {
      "cell_type": "code",
      "source": [
        "# install findspark using pip\n",
        "!pip install -q findspark"
      ],
      "metadata": {
        "id": "8AMRYCp0dGlE"
      },
      "execution_count": 3,
      "outputs": []
    },
    {
      "cell_type": "code",
      "source": [
        "!pip install mysql-connector-python"
      ],
      "metadata": {
        "id": "CFkR5ppRITJt"
      },
      "execution_count": null,
      "outputs": []
    },
    {
      "cell_type": "code",
      "source": [
        "!pip install pyspark==3.0.0 # version ของ pyspark และ spark ควรเป็น version เดียวกัน"
      ],
      "metadata": {
        "id": "4WSdKvRWyUx6"
      },
      "execution_count": null,
      "outputs": []
    },
    {
      "cell_type": "code",
      "source": [
        "import findspark\n",
        "findspark.init() "
      ],
      "metadata": {
        "id": "p8vC-X9QdRPy"
      },
      "execution_count": 12,
      "outputs": []
    },
    {
      "cell_type": "code",
      "source": [
        "# Import SparkSession\n",
        "from pyspark.sql import SparkSession\n",
        "# Create a Spark Session\n",
        "spark = SparkSession.builder.master(\"local[*]\")\\\n",
        ".appName(\"simple etl job\")\\\n",
        ".getOrCreate()\n",
        "# Check Spark Session Information\n",
        "spark"
      ],
      "metadata": {
        "id": "VJHZCFd9vmwL"
      },
      "execution_count": null,
      "outputs": []
    },
    {
      "cell_type": "markdown",
      "source": [
        "**Etract**"
      ],
      "metadata": {
        "id": "fZEyMF1E2HQm"
      }
    },
    {
      "cell_type": "code",
      "source": [
        "import mysql.connector\n",
        "import pandas as pd\n",
        "\n",
        "\n",
        "# Config MySQL connection\n",
        "host = '0.tcp.ap.ngrok.io'\n",
        "database = 'etl'\n",
        "user = 'root'\n",
        "password = ''\n",
        "port = 18578\n",
        "\n",
        "# connection MySQL\n",
        "connection = mysql.connector.connect(\n",
        "    user=user,\n",
        "    database=database,\n",
        "    password=password,\n",
        "    host=host,\n",
        "    port=port\n",
        ")\n",
        "\n",
        "file_path =\"/content/sample_data/raw_demo.csv\"\n",
        "\n",
        "df = spark.read.option(\"sep\", \"|\").option(\"header\", \"true\").csv(file_path)\n",
        "pandas_df = df.toPandas()\n",
        "\n",
        "\n",
        "cursor = connection.cursor()\n",
        "cursor.execute(\"CREATE TABLE IF NOT EXISTS SOURCE_DATA_DEMO(first_name VARCHAR(50), last_name VARCHAR(50), age VARCHAR(50), sex VARCHAR(50));\")\n",
        "sql = \"INSERT INTO SOURCE_DATA_DEMO (first_name,last_name,age,sex) VALUES (%s, %s, %s, %s)\"\n",
        "\n",
        "for index, row in pandas_df.iterrows():\n",
        "    cursor.execute(sql, (row['First Name'],row['Last Name'],row['Age'],row['Sex']))\n",
        "\n",
        "connection.commit()\n",
        "connection.close()\n",
        "\n"
      ],
      "metadata": {
        "id": "uk_jaAIluxdt"
      },
      "execution_count": 26,
      "outputs": []
    },
    {
      "cell_type": "markdown",
      "source": [
        "**Transform**"
      ],
      "metadata": {
        "id": "JcGxHup22Mzu"
      }
    },
    {
      "cell_type": "code",
      "source": [
        "import mysql.connector\n",
        "import pandas as pd\n",
        "\n",
        "# Config MySQL connection\n",
        "host = '0.tcp.ap.ngrok.io'\n",
        "database = 'etl'\n",
        "user = 'root'\n",
        "password = ''\n",
        "port = 18578\n",
        "\n",
        "# connection MySQL\n",
        "connection = mysql.connector.connect(\n",
        "    user=user,\n",
        "    database=database,\n",
        "    password=password,\n",
        "    host=host,\n",
        "    port=port\n",
        ")\n",
        "\n",
        "cursor = connection.cursor()\n",
        "pdf = pd.read_sql(\"SELECT * FROM SOURCE_DATA_DEMO\", con=connection)\n",
        "connection.commit()\n",
        "connection.close()\n",
        "dftransform = spark.createDataFrame(pdf)\n",
        "dftransform.show()\n"
      ],
      "metadata": {
        "id": "dot2dxXkMc-6"
      },
      "execution_count": null,
      "outputs": []
    },
    {
      "cell_type": "code",
      "source": [
        "from pyspark.sql.functions import regexp_replace\n",
        "from pyspark.sql.functions import initcap\n",
        "\n",
        "dftransform = dftransform.withColumn('first_name', regexp_replace('first_name', r'[^a-zA-Z0-9 ]', ''))\n",
        "dftransform = dftransform.withColumn('last_name', regexp_replace('last_name', r'[^a-zA-Z0-9 ]', ''))\n",
        "\n",
        "#remove whitespace\n",
        "dftransform = dftransform.withColumn('first_name', regexp_replace('first_name', ' ', ''))\n",
        "dftransform = dftransform.withColumn('last_name', regexp_replace('last_name', ' ', ''))\n",
        "dftransform = dftransform.withColumn('sex', regexp_replace('sex', ' ', ''))\n",
        "\n",
        "#The first character is uppercase\n",
        "dftransform = dftransform.withColumn('first_name', initcap('first_name'))\n",
        "dftransform = dftransform.withColumn('last_name', initcap('last_name'))\n",
        "\n",
        "dftransform.show()"
      ],
      "metadata": {
        "colab": {
          "base_uri": "https://localhost:8080/"
        },
        "id": "lR-R_K0HyEYI",
        "outputId": "155dfd00-f598-4d07-a51a-bddd82cdc1c7"
      },
      "execution_count": 17,
      "outputs": [
        {
          "output_type": "stream",
          "name": "stdout",
          "text": [
            "+----------+----------+---+------+\n",
            "|first_name| last_name|age|   sex|\n",
            "+----------+----------+---+------+\n",
            "|     Maria|Loudermilk| 54|    MF|\n",
            "|    Eugene|    Travis| 23|  LGBT|\n",
            "|   Dolores|   Heywood| 35|  both|\n",
            "|      Rita|     White| 57|     -|\n",
            "|    Corina|    Milton| 10|  Male|\n",
            "|     Alice|    Farrer| 37|    FM|\n",
            "|     Jacob|   Lemoine| 60|  both|\n",
            "|    Robert|   Fischer| 48|  both|\n",
            "|     Gayle|   Deberry| 58|     f|\n",
            "|     Lloyd|     Brown| 45|     M|\n",
            "|     Kayla|     Mejia| 41|    MF|\n",
            "|    Arnold|    Powell| 65|  Male|\n",
            "|     Susan|   Monahan|187|Female|\n",
            "|   Winfred|    Vitale| 53|     -|\n",
            "|    Sergio|      Chun| 40|  LGBT|\n",
            "|  Jonathan|     Flynn| 70|    MF|\n",
            "|   Shirley|    Wilson| 67|  both|\n",
            "|     Karen|     Weuve| 22|     m|\n",
            "|     Naomi|    Aleman| 49|   Man|\n",
            "|   Jerrold|  Martinez| 58|     f|\n",
            "+----------+----------+---+------+\n",
            "only showing top 20 rows\n",
            "\n"
          ]
        }
      ]
    },
    {
      "cell_type": "code",
      "source": [
        "from pyspark.sql.functions import col\n",
        "from pyspark.sql.types import IntegerType\n",
        "\n",
        "# drop Age Error\n",
        "dft2 = dftransform.filter(col(\"age\").isNotNull())\n",
        "dft2.show()\n",
        "dft2 = dft2.withColumn(\"age\",dft2.age.cast(IntegerType()))\n",
        "dft2.printSchema()"
      ],
      "metadata": {
        "colab": {
          "base_uri": "https://localhost:8080/"
        },
        "id": "K1LwRel8yjGF",
        "outputId": "33624a51-74aa-4bb5-c653-7a74d71b4016"
      },
      "execution_count": 19,
      "outputs": [
        {
          "output_type": "stream",
          "name": "stdout",
          "text": [
            "+----------+----------+---+------+\n",
            "|first_name| last_name|age|   sex|\n",
            "+----------+----------+---+------+\n",
            "|     Maria|Loudermilk| 54|    MF|\n",
            "|    Eugene|    Travis| 23|  LGBT|\n",
            "|   Dolores|   Heywood| 35|  both|\n",
            "|      Rita|     White| 57|     -|\n",
            "|    Corina|    Milton| 10|  Male|\n",
            "|     Alice|    Farrer| 37|    FM|\n",
            "|     Jacob|   Lemoine| 60|  both|\n",
            "|    Robert|   Fischer| 48|  both|\n",
            "|     Gayle|   Deberry| 58|     f|\n",
            "|     Lloyd|     Brown| 45|     M|\n",
            "|     Kayla|     Mejia| 41|    MF|\n",
            "|    Arnold|    Powell| 65|  Male|\n",
            "|     Susan|   Monahan|187|Female|\n",
            "|   Winfred|    Vitale| 53|     -|\n",
            "|    Sergio|      Chun| 40|  LGBT|\n",
            "|  Jonathan|     Flynn| 70|    MF|\n",
            "|   Shirley|    Wilson| 67|  both|\n",
            "|     Karen|     Weuve| 22|     m|\n",
            "|     Naomi|    Aleman| 49|   Man|\n",
            "|   Jerrold|  Martinez| 58|     f|\n",
            "+----------+----------+---+------+\n",
            "only showing top 20 rows\n",
            "\n",
            "root\n",
            " |-- first_name: string (nullable = true)\n",
            " |-- last_name: string (nullable = true)\n",
            " |-- age: integer (nullable = true)\n",
            " |-- sex: string (nullable = true)\n",
            "\n"
          ]
        }
      ]
    },
    {
      "cell_type": "code",
      "source": [
        "from pyspark.sql.functions import when, col\n",
        "\n",
        "dft2 = dft2.withColumn('sex', \n",
        "    when(col('sex').isin(['Female', 'Girl', 'f']), 'F')\n",
        "    .when(col('sex').isin(['Man', 'Male', 'FM', 'MF']), 'M')\n",
        "    .when(col('sex').isin(['both']), 'LGBT')\n",
        "    .when(col('sex').isin(['m']), 'M')\n",
        "    .when(col('sex') == '-', 'Not Defined')\n",
        "    .otherwise(col('sex'))\n",
        ")\n",
        "dft2.show()"
      ],
      "metadata": {
        "colab": {
          "base_uri": "https://localhost:8080/"
        },
        "id": "V-_VkXczyvgn",
        "outputId": "128abcbd-d3b4-4ab6-94f1-18204e17294a"
      },
      "execution_count": 20,
      "outputs": [
        {
          "output_type": "stream",
          "name": "stdout",
          "text": [
            "+----------+----------+---+-----------+\n",
            "|first_name| last_name|age|        sex|\n",
            "+----------+----------+---+-----------+\n",
            "|     Maria|Loudermilk| 54|          M|\n",
            "|    Eugene|    Travis| 23|       LGBT|\n",
            "|   Dolores|   Heywood| 35|       LGBT|\n",
            "|      Rita|     White| 57|Not Defined|\n",
            "|    Corina|    Milton| 10|          M|\n",
            "|     Alice|    Farrer| 37|          M|\n",
            "|     Jacob|   Lemoine| 60|       LGBT|\n",
            "|    Robert|   Fischer| 48|       LGBT|\n",
            "|     Gayle|   Deberry| 58|          F|\n",
            "|     Lloyd|     Brown| 45|          M|\n",
            "|     Kayla|     Mejia| 41|          M|\n",
            "|    Arnold|    Powell| 65|          M|\n",
            "|     Susan|   Monahan|187|          F|\n",
            "|   Winfred|    Vitale| 53|Not Defined|\n",
            "|    Sergio|      Chun| 40|       LGBT|\n",
            "|  Jonathan|     Flynn| 70|          M|\n",
            "|   Shirley|    Wilson| 67|       LGBT|\n",
            "|     Karen|     Weuve| 22|          M|\n",
            "|     Naomi|    Aleman| 49|          M|\n",
            "|   Jerrold|  Martinez| 58|          F|\n",
            "+----------+----------+---+-----------+\n",
            "only showing top 20 rows\n",
            "\n"
          ]
        }
      ]
    },
    {
      "cell_type": "code",
      "source": [
        "import mysql.connector\n",
        "import pandas as pd\n",
        "\n",
        "\n",
        "# Config MySQL connection\n",
        "host = '0.tcp.ap.ngrok.io'\n",
        "database = 'etl'\n",
        "user = 'root'\n",
        "password = ''\n",
        "port = 18578\n",
        "\n",
        "# connection MySQL\n",
        "connection = mysql.connector.connect(\n",
        "    user=user,\n",
        "    database=database,\n",
        "    password=password,\n",
        "    host=host,\n",
        "    port=port\n",
        ")\n",
        "\n",
        "\n",
        "pandas_df = dft2.toPandas()\n",
        "\n",
        "cursor = connection.cursor()\n",
        "cursor.execute(\"CREATE TABLE IF NOT EXISTS STATING_DATA_DEMO(first_name VARCHAR(50), last_name VARCHAR(50), age VARCHAR(50), sex VARCHAR(50));\")\n",
        "sql = \"INSERT INTO STATING_DATA_DEMO (first_name,last_name,age,sex) VALUES (%s, %s, %s, %s)\"\n",
        "\n",
        "for index, row in pandas_df.iterrows():\n",
        "    cursor.execute(sql, (row['first_name'],row['last_name'],row['age'],row['sex']))\n",
        "\n",
        "connection.commit()\n",
        "connection.close()"
      ],
      "metadata": {
        "id": "8udM9iiHy8rp"
      },
      "execution_count": 21,
      "outputs": []
    },
    {
      "cell_type": "markdown",
      "source": [
        "**Load**"
      ],
      "metadata": {
        "id": "HsdG1b472Tk_"
      }
    },
    {
      "cell_type": "code",
      "source": [
        "import mysql.connector\n",
        "import pandas as pd\n",
        "\n",
        "\n",
        "# Config MySQL connection\n",
        "host = '0.tcp.ap.ngrok.io'\n",
        "database = 'etl'\n",
        "user = 'root'\n",
        "password = ''\n",
        "port = 18578\n",
        "\n",
        "# connection MySQL\n",
        "connection = mysql.connector.connect(\n",
        "    user=user,\n",
        "    database=database,\n",
        "    password=password,\n",
        "    host=host,\n",
        "    port=port\n",
        ")\n",
        "\n",
        "cursor = connection.cursor()\n",
        "pdf = pd.read_sql(\"SELECT * FROM STATING_DATA_DEMO\", con=connection)\n",
        "dfload = spark.createDataFrame(pdf)\n",
        "pandas_df = dfload.toPandas()\n",
        "\n",
        "cursor.execute(\"CREATE TABLE IF NOT EXISTS LOAD_DATA_DEMO(first_name VARCHAR(50), last_name VARCHAR(50), age VARCHAR(50), sex VARCHAR(50));\")\n",
        "sql = \"INSERT INTO LOAD_DATA_DEMO (first_name,last_name,age,sex) VALUES (%s, %s, %s, %s)\"\n",
        "\n",
        "for index, row in pandas_df.iterrows():\n",
        "    cursor.execute(sql, (row['first_name'],row['last_name'],row['age'],row['sex']))\n",
        "\n",
        "connection.commit()\n",
        "connection.close()\n"
      ],
      "metadata": {
        "id": "l2COQ7hwzkmW"
      },
      "execution_count": null,
      "outputs": []
    }
  ]
}